{
 "cells": [
  {
   "cell_type": "code",
   "execution_count": 1,
   "metadata": {},
   "outputs": [
    {
     "name": "stdout",
     "output_type": "stream",
     "text": [
      "100\n"
     ]
    }
   ],
   "source": [
    "#并发   并行\n",
    "#生产者和消费者\n",
    "a=0\n",
    "def A():\n",
    "    global a   #全局变量\n",
    "    a +=100\n",
    "    print(a)\n",
    "A()"
   ]
  },
  {
   "cell_type": "code",
   "execution_count": 6,
   "metadata": {},
   "outputs": [
    {
     "name": "stdout",
     "output_type": "stream",
     "text": [
      "smy\n"
     ]
    }
   ],
   "source": [
    "# flush=true  刷新缓冲区\n",
    "# end=\"\" 换行\n",
    "from multiprocessing import Process\n",
    "import time\n",
    "counter=0\n",
    "def sub_task(string):\n",
    "    global counter\n",
    "    while counter<10:\n",
    "        print(string,end=\"\",flush=True)\n",
    "        counter +=1\n",
    "        time.sleep(1)\n",
    "def main():\n",
    "    Process(target=sub_task,args=(\"Ping\",)).start()\n",
    "    Process(target=sub_task,args=(\"Pong\",)).start()\n",
    "    print(\"smy\")\n",
    "if __name__==\"__main__\":\n",
    "    main()"
   ]
  },
  {
   "cell_type": "code",
   "execution_count": null,
   "metadata": {},
   "outputs": [],
   "source": [
    "import multiprocessing\n",
    "import os\n",
    "\n",
    "\n",
    "def info(title):\n",
    "    print(title)\n",
    "    print(__name__)\n",
    "    print('father', os.getppid())\n",
    "    print('self', os.getpid())\n",
    "    print('--------')\n",
    "\n",
    "\n",
    "\n",
    "if __name__ == \"__main__\": # 除了创建的子进程和子进程调用函数，其他的都是脚本主进程\n",
    "    # info('hello')\n",
    "    # 创建一个子进程调用函数\n",
    "    P = multiprocessing.Process(target=info,args=('hello python',))\n",
    "    P.start()\n",
    "    P.join() # 和多线程一样，也是等待的意思\n",
    "    print('hello word') # 若没有join则会独立运行\n"
   ]
  },
  {
   "cell_type": "code",
   "execution_count": null,
   "metadata": {},
   "outputs": [],
   "source": [
    "# 当进程进行文件读写操作的时候(关键性操作的时候)需要使用锁..\n",
    "from multiprocessing import Process,RLock\n",
    "import multiprocessing\n",
    "\n",
    "def _write(str_,lock):\n",
    "    print(multiprocessing.current_process().name)\n",
    "    # 写入文件\n",
    "    path = '/Users/joker/Desktop/joker.txt'\n",
    "\n",
    "    # with 会自己帮你关掉\n",
    "    with lock:\n",
    "                # 路径   模式a:追加  # 编码模式:utf-8, gbk,gb12128\n",
    "        with open(path, mode='a',encoding='utf8') as f:\n",
    "            f.write(str_)\n",
    "    \n",
    "if __name__ == \"__main__\":\n",
    "    ps = []\n",
    "    # 创建一个活锁\n",
    "    lock = RLock()\n",
    "    for i in range(10):\n",
    "        p = Process(target=_write,args=('今天天气好晴朗\\n',lock))\n",
    "        p.start()\n",
    "        ps.append(p)\n",
    "    \n",
    "    for i in ps:\n",
    "        i.join()"
   ]
  },
  {
   "cell_type": "code",
   "execution_count": null,
   "metadata": {},
   "outputs": [],
   "source": [
    "import multiprocessing\n",
    "\n",
    "\n",
    "def func(conn):\n",
    "    conn.send(['Joker is a good man'])\n",
    "    print('{} 发送了..'.format(multiprocessing.current_process().name))\n",
    "    print('{} 接受了 {}'.format(multiprocessing.current_process().name,conn.recv()))\n",
    "    conn.close()\n",
    "\n",
    "if __name__ == \"__main__\":\n",
    "    conn_a,conn_b = multiprocessing.Pipe()\n",
    "    p1 = multiprocessing.Process(target=func,args=(conn_a,)).start()\n",
    "    conn_b.send([1, 2, 3, 4, 5, 6, 7])  # 发送数据给conn_a\n",
    "    print('main',conn_b.recv())"
   ]
  },
  {
   "cell_type": "code",
   "execution_count": null,
   "metadata": {},
   "outputs": [],
   "source": [
    "全局变量不共享\n",
    "    1809 ['a', 'b', 'c']\n",
    "    1810 [1, 2, 3]\n",
    "    '''\n",
    "  \n",
    "  # 全局变量不可以进程共享\n",
    "import multiprocessing\n",
    "import os\n",
    "data = []\n",
    "\n",
    "def List():\n",
    "    global data\n",
    "    data.append(1)\n",
    "    data.append(2)\n",
    "    data.append(3)\n",
    "    print('p',os.getpid(),data)\n",
    "\n",
    "\n",
    "if __name__ == '__main__':\n",
    "    p = multiprocessing.Process(target=List,args=()).start()  # 子进程\n",
    "    data.append('a')  # 脚本主进程\n",
    "    data.append('b')\n",
    "    data.append('c')\n",
    "    print('main',os.getpid(),data)\n"
   ]
  },
  {
   "cell_type": "code",
   "execution_count": null,
   "metadata": {},
   "outputs": [],
   "source": [
    "import multiprocessing\n",
    "import time\n",
    "############################################################################\n",
    "# https://docs.python.org/zh-cn/3/library/queue.html#queue.Queue.task_done #\n",
    "############################################################################\n",
    "\n",
    "\n",
    "# 一定是要一个放,一个取\n",
    "# maxsize 设置队列的最大长度.\n",
    "queue = multiprocessing.Queue(maxsize=10)\n",
    "def func1(queue):\n",
    "    while 1:\n",
    "        print('放入..')\n",
    "        queue.put(100,timeout=3)\n",
    "\n",
    "def func2(queue):\n",
    "    while 1:\n",
    "        time.sleep(3)\n",
    "        res = queue.get()\n",
    "        print(res)\n",
    "\n",
    "if __name__ == \"__main__\":\n",
    "    p1 = multiprocessing.Process(target=func1,args=(queue,))\n",
    "    # p2 = multiprocessing.Process(target=func2,args=(queue,))\n",
    "\n",
    "    p1.start()\n",
    "    # p2.start()\n",
    "    p1.join()\n",
    "    # p2.join()"
   ]
  },
  {
   "cell_type": "code",
   "execution_count": null,
   "metadata": {},
   "outputs": [],
   "source": [
    "# 创建一个共享的列表/数组\n",
    "# 当你有多个进程需要同时操作某一个数组的时候,你就应该搭建一个共享数组Array.\n",
    "import multiprocessing\n",
    "\n",
    "def func(m,i):\n",
    "    m[i] = 10000\n",
    " \n",
    "def func1():\n",
    "    # Array 是一个对象\n",
    "    list_ = multiprocessing.Array('i',[1,2,3])\n",
    "    return list_\n",
    "\n",
    "\n",
    "if __name__ == \"__main__\":\n",
    "    list_ = func1()\n",
    "    print(list_[:])\n",
    "    p1 = multiprocessing.Process(target=func,args=(list_,0))\n",
    "    p2 = multiprocessing.Process(target=func,args=(list_,1))\n",
    "    p1.start()\n",
    "    p2.start()\n",
    "    p1.join()\n",
    "    p2.join()\n",
    "\n",
    "    print(list_[:])"
   ]
  },
  {
   "cell_type": "code",
   "execution_count": null,
   "metadata": {},
   "outputs": [],
   "source": [
    "import multiprocessing\n",
    "\n",
    "\n",
    "def func(mydict, mylist):\n",
    "    mydict[\"胡旺\"] = \"牛皮\"\n",
    "    mydict[\"lalal\"] = \"大美女\"\n",
    "    mylist.append(11)\n",
    "    mylist.append(22)\n",
    "    mylist.append(33)\n",
    "\n",
    "\n",
    "if __name__ == \"__main__\":\n",
    "    # with multiprocessing.Manager() as MG:\n",
    "    #     mydict=MG.dict()\n",
    "    #     mylist=MG.list(range(5))\n",
    "    mydict = multiprocessing.Manager().dict()\n",
    "                                        # [0,1,2,3,4]\n",
    "    mylist = multiprocessing.Manager().list(range(5))\n",
    "\n",
    "    p = multiprocessing.Process(target=func, args=(mydict, mylist))\n",
    "    p.start()\n",
    "    p.join()\n",
    "\n",
    "    print(mylist)\n",
    "    print(mydict)\n",
    "# print(list(range(5)))  # 很牛逼的list"
   ]
  },
  {
   "cell_type": "code",
   "execution_count": null,
   "metadata": {},
   "outputs": [],
   "source": [
    "import csv \n",
    "import re \n",
    "path=\"C:/Users/Administrator/Desktop/Homework1/un-general-debates.csv\"\n",
    "with open(path,mode='r',encoding='utf-8') as f:\n",
    "        csv_reader=csv.reader(f)\n",
    "        for row in csv_reader:\n",
    "                q=row[3]\n",
    "                path_='C:/Users/Administrator/Desktop/smy.txt'\n",
    "                with open(path_,'w',encoding='utf-8') as ro: \n",
    "                        ro.write(q)"
   ]
  },
  {
   "cell_type": "code",
   "execution_count": null,
   "metadata": {},
   "outputs": [],
   "source": []
  }
 ],
 "metadata": {
  "kernelspec": {
   "display_name": "Python 3",
   "language": "python",
   "name": "python3"
  },
  "language_info": {
   "codemirror_mode": {
    "name": "ipython",
    "version": 3
   },
   "file_extension": ".py",
   "mimetype": "text/x-python",
   "name": "python",
   "nbconvert_exporter": "python",
   "pygments_lexer": "ipython3",
   "version": "3.7.3"
  }
 },
 "nbformat": 4,
 "nbformat_minor": 2
}
