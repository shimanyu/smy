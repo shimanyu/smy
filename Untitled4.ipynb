{
 "cells": [
  {
   "cell_type": "code",
   "execution_count": 1,
   "metadata": {},
   "outputs": [
    {
     "name": "stdout",
     "output_type": "stream",
     "text": [
      "a\n"
     ]
    }
   ],
   "source": [
    "class A(object):\n",
    "    @staticmethod\n",
    "    def a():\n",
    "        print(\"a\")\n",
    "A.a()"
   ]
  },
  {
   "cell_type": "code",
   "execution_count": 3,
   "metadata": {},
   "outputs": [
    {
     "name": "stdout",
     "output_type": "stream",
     "text": [
      "100\n"
     ]
    }
   ],
   "source": [
    "# 如果类中需要非该类成员存在，则可以使用静态调用的方法@staticmethod\n",
    " \n",
    "class A(object):\n",
    "    @staticmethod\n",
    "    def is_valid(j):\n",
    "        print(j)\n",
    "    def a(self):\n",
    "        print(\"hello\")\n",
    "a1=A()\n",
    "a1.is_valid(\"100\")"
   ]
  },
  {
   "cell_type": "code",
   "execution_count": 11,
   "metadata": {},
   "outputs": [
    {
     "name": "stdout",
     "output_type": "stream",
     "text": [
      "4\n"
     ]
    }
   ],
   "source": [
    "# 1、输入四条边，判断它是否是一个正方形，如果是，计算面积@staticmethod\n",
    "# shift+tab:前移\n",
    "# tab:后移\n",
    "class Triangle(object):\n",
    "    def __init__(self,a,b,c,d):\n",
    "        self.a=a\n",
    "        self.b=b\n",
    "        self.c=c\n",
    "        self.d=d\n",
    "    @staticmethod\n",
    "    def is_valid(a,b,c,d):\n",
    "        for i in [b,c,d]:\n",
    "            if i !=a:\n",
    "                return False\n",
    "        else:\n",
    "            return True\n",
    "    def area(self):\n",
    "        if res==True:\n",
    "            area_=self.a*self.b\n",
    "            return area_\n",
    "smy=Triangle(2,2,2,2)\n",
    "res=smy.is_valid(2,2,2,2)\n",
    "if res==True:\n",
    "    print(smy.area())"
   ]
  },
  {
   "cell_type": "code",
   "execution_count": 12,
   "metadata": {},
   "outputs": [
    {
     "name": "stdout",
     "output_type": "stream",
     "text": [
      "time.struct_time(tm_year=2019, tm_mon=8, tm_mday=8, tm_hour=9, tm_min=49, tm_sec=24, tm_wday=3, tm_yday=220, tm_isdst=0)\n"
     ]
    }
   ],
   "source": [
    "from time import time,localtime,sleep\n",
    "# 时间戳，从1970年1月1号00.00.00开始到现在经历的秒数\n",
    "print(localtime(time()))"
   ]
  },
  {
   "cell_type": "code",
   "execution_count": 36,
   "metadata": {},
   "outputs": [
    {
     "name": "stdout",
     "output_type": "stream",
     "text": [
      "300\n"
     ]
    }
   ],
   "source": [
    "#创建一个父类创建一个子类，父类计算两个数字的和记为SUM；\n",
    "#子类自己还有一个参数，子类打印这个SUM\n",
    "class A(object):\n",
    "    def __init__(self):\n",
    "        self.a=100\n",
    "        self.s=200\n",
    "    def sum_(self):\n",
    "        SUM=self.a+self.s\n",
    "        return SUM\n",
    "class B(A):\n",
    "    #这个__init是B自身的\n",
    "    def __init__(self):\n",
    "        A.__init__(self)#继承A中所有东西\n",
    "    def Print(self):\n",
    "        res=self.sum_()\n",
    "        print(res) \n",
    "b=B()\n",
    "b.Print()"
   ]
  },
  {
   "cell_type": "code",
   "execution_count": 17,
   "metadata": {},
   "outputs": [
    {
     "name": "stdout",
     "output_type": "stream",
     "text": [
      "100\n",
      "A1\n"
     ]
    }
   ],
   "source": [
    "#继承：私有变量不可继承\n",
    "class A(object):\n",
    "    def __init__(self):\n",
    "        self.a=100\n",
    "#         self.a1=a1\n",
    "    def A1(self):\n",
    "        print(\"A1\")\n",
    "#在类名中写上继承的类\n",
    "class B(A):\n",
    "    def __init__(self):\n",
    "        A.__init__(self)#继承A中所有东西\n",
    "        self.b=200\n",
    "#         self.b1=b1\n",
    "    def B1(self):\n",
    "        print(\"B1\")\n",
    "        \n",
    "b_=B()\n",
    "print(b_.a)\n",
    "b_.A1()"
   ]
  },
  {
   "cell_type": "code",
   "execution_count": 45,
   "metadata": {},
   "outputs": [
    {
     "name": "stdout",
     "output_type": "stream",
     "text": [
      "1100\n"
     ]
    }
   ],
   "source": [
    "#创建一个父类创建一个子类，父类计算两个数字的和记为SUM；\n",
    "#子类自己还有一个参数，子类打印这个SUM\n",
    "class A(object):\n",
    "    def __init__(self,s):\n",
    "        self.a=100\n",
    "        self.s=s\n",
    "    def sum_(self):\n",
    "        SUM_=self.a+self.s\n",
    "        return SUM_\n",
    "class B(A):\n",
    "    #这个__init是B自身的\n",
    "    def __init__(self,s,b1):\n",
    "        self.b1=b1\n",
    "        A.__init__(self,s)#继承A中所有东西\n",
    "    def Print(self):\n",
    "        res=self.sum_()\n",
    "        print(res) \n",
    "b=B(1000,\"1001\")\n",
    "b.Print()"
   ]
  },
  {
   "cell_type": "code",
   "execution_count": 1,
   "metadata": {},
   "outputs": [
    {
     "name": "stdout",
     "output_type": "stream",
     "text": [
      "[0, 1, 2, 3, 4, 5, 6, 7, 8, 9, 10, 11, 12, 13, 14, 15, 16, 17, 18, 19, 20, 21, 22, 23, 24, 25, 26, 27, 28, 29, 30, 31, 32, 33, 34, 35, 36, 37, 38, 39, 40, 41, 42, 43, 44, 45, 46, 47, 48, 49, 50, 51, 52, 53, 54, 55, 56, 57, 58, 59, 60, 61, 62, 63, 64, 65, 66, 67, 68, 69, 70, 71, 72, 73, 74, 75, 76, 77, 78, 79, 80, 81, 82, 83, 84, 85, 86, 87, 88, 89, 90, 91, 92, 93, 94, 95, 96, 97, 98, 99]\n"
     ]
    }
   ],
   "source": [
    "#列表生成式\n",
    "#优点：计算速度快，因为一次性已经全部加载到内存中了，适合数据量不是太大的情况\n",
    "#缺点：占用内存\n",
    "a=[x for x in range(100)]\n",
    "print(a)"
   ]
  },
  {
   "cell_type": "code",
   "execution_count": 3,
   "metadata": {},
   "outputs": [
    {
     "name": "stdout",
     "output_type": "stream",
     "text": [
      "[0, 2, 4, 6, 8, 10, 12, 14, 16, 18, 20, 22, 24, 26, 28, 30, 32, 34, 36, 38, 40, 42, 44, 46, 48, 50, 52, 54, 56, 58, 60, 62, 64, 66, 68, 70, 72, 74, 76, 78, 80, 82, 84, 86, 88, 90, 92, 94, 96, 98]\n"
     ]
    }
   ],
   "source": [
    "a=[x for x in range(100) if x % 2==0]\n",
    "print(a)"
   ]
  },
  {
   "cell_type": "code",
   "execution_count": 5,
   "metadata": {},
   "outputs": [
    {
     "name": "stdout",
     "output_type": "stream",
     "text": [
      "0\n"
     ]
    }
   ],
   "source": [
    "#生成器：\n",
    "#优点：节约内存空间\n",
    "#缺点：计算速度慢，因为要生成\n",
    "a=(x for x in range(100) if x % 2==0)\n",
    "print(next(a))"
   ]
  },
  {
   "cell_type": "code",
   "execution_count": 6,
   "metadata": {},
   "outputs": [
    {
     "name": "stdout",
     "output_type": "stream",
     "text": [
      "0\n",
      "2\n",
      "4\n",
      "6\n",
      "8\n",
      "10\n",
      "12\n",
      "14\n",
      "16\n",
      "18\n",
      "20\n",
      "22\n",
      "24\n",
      "26\n",
      "28\n",
      "30\n",
      "32\n",
      "34\n",
      "36\n",
      "38\n",
      "40\n",
      "42\n",
      "44\n",
      "46\n",
      "48\n",
      "50\n",
      "52\n",
      "54\n",
      "56\n",
      "58\n",
      "60\n",
      "62\n",
      "64\n",
      "66\n",
      "68\n",
      "70\n",
      "72\n",
      "74\n",
      "76\n",
      "78\n",
      "80\n",
      "82\n",
      "84\n",
      "86\n",
      "88\n",
      "90\n",
      "92\n",
      "94\n",
      "96\n",
      "98\n"
     ]
    },
    {
     "ename": "StopIteration",
     "evalue": "",
     "output_type": "error",
     "traceback": [
      "\u001b[1;31m---------------------------------------------------------------------------\u001b[0m",
      "\u001b[1;31mStopIteration\u001b[0m                             Traceback (most recent call last)",
      "\u001b[1;32m<ipython-input-6-bef281755ff2>\u001b[0m in \u001b[0;36m<module>\u001b[1;34m\u001b[0m\n\u001b[0;32m      1\u001b[0m \u001b[0ma\u001b[0m\u001b[1;33m=\u001b[0m\u001b[1;33m(\u001b[0m\u001b[0mx\u001b[0m \u001b[1;32mfor\u001b[0m \u001b[0mx\u001b[0m \u001b[1;32min\u001b[0m \u001b[0mrange\u001b[0m\u001b[1;33m(\u001b[0m\u001b[1;36m100\u001b[0m\u001b[1;33m)\u001b[0m \u001b[1;32mif\u001b[0m \u001b[0mx\u001b[0m \u001b[1;33m%\u001b[0m \u001b[1;36m2\u001b[0m\u001b[1;33m==\u001b[0m\u001b[1;36m0\u001b[0m\u001b[1;33m)\u001b[0m\u001b[1;33m\u001b[0m\u001b[1;33m\u001b[0m\u001b[0m\n\u001b[0;32m      2\u001b[0m \u001b[1;32mfor\u001b[0m \u001b[0mi\u001b[0m \u001b[1;32min\u001b[0m \u001b[0mrange\u001b[0m\u001b[1;33m(\u001b[0m\u001b[1;36m100\u001b[0m\u001b[1;33m)\u001b[0m\u001b[1;33m:\u001b[0m\u001b[1;33m\u001b[0m\u001b[1;33m\u001b[0m\u001b[0m\n\u001b[1;32m----> 3\u001b[1;33m     \u001b[0mprint\u001b[0m\u001b[1;33m(\u001b[0m\u001b[0mnext\u001b[0m\u001b[1;33m(\u001b[0m\u001b[0ma\u001b[0m\u001b[1;33m)\u001b[0m\u001b[1;33m)\u001b[0m\u001b[1;33m\u001b[0m\u001b[1;33m\u001b[0m\u001b[0m\n\u001b[0m",
      "\u001b[1;31mStopIteration\u001b[0m: "
     ]
    }
   ],
   "source": [
    "a=(x for x in range(100) if x % 2==0)\n",
    "for i in range(100):\n",
    "    print(next(a))"
   ]
  },
  {
   "cell_type": "code",
   "execution_count": 7,
   "metadata": {},
   "outputs": [
    {
     "name": "stdout",
     "output_type": "stream",
     "text": [
      "<function foo.<locals>.bar at 0x0000020947BEABF8>\n"
     ]
    }
   ],
   "source": [
    "def foo():\n",
    "    def bar():\n",
    "        return \"hello\"\n",
    "    return bar\n",
    "f1=foo()\n",
    "print(f1)\n"
   ]
  },
  {
   "cell_type": "code",
   "execution_count": 11,
   "metadata": {},
   "outputs": [
    {
     "name": "stdout",
     "output_type": "stream",
     "text": [
      "<function foo.<locals>.bar at 0x0000020947BEA2F0>\n",
      "hello2\n"
     ]
    }
   ],
   "source": [
    "#闭包\n",
    "def foo():\n",
    "    def bar():\n",
    "        def bar2():\n",
    "            return \"hello2\"\n",
    "        return bar2\n",
    "    return bar\n",
    "f1=foo()\n",
    "print(f1)\n",
    "f2=f1()\n",
    "print(f2())"
   ]
  },
  {
   "cell_type": "code",
   "execution_count": 12,
   "metadata": {},
   "outputs": [
    {
     "name": "stdout",
     "output_type": "stream",
     "text": [
      "[1]\n"
     ]
    }
   ],
   "source": [
    "def foo():\n",
    "    l=[]\n",
    "    def bar(i):\n",
    "        l.append(i)\n",
    "        return l\n",
    "    return bar\n",
    "f1=foo()\n",
    "res1=f1(1)\n",
    "print(res1)"
   ]
  },
  {
   "cell_type": "code",
   "execution_count": 13,
   "metadata": {},
   "outputs": [
    {
     "name": "stdout",
     "output_type": "stream",
     "text": [
      "[1]\n",
      "[1, 2]\n"
     ]
    }
   ],
   "source": [
    "def foo():\n",
    "    l=[]\n",
    "    def bar(i):\n",
    "        l.append(i)\n",
    "        return l\n",
    "    return bar\n",
    "f1=foo()\n",
    "res1=f1(1)\n",
    "print(res1)\n",
    "res2=f1(2)\n",
    "print(res2)"
   ]
  },
  {
   "cell_type": "code",
   "execution_count": 15,
   "metadata": {},
   "outputs": [
    {
     "name": "stdout",
     "output_type": "stream",
     "text": [
      "[1]\n",
      "[2]\n"
     ]
    }
   ],
   "source": [
    "#带参数的闭包\n",
    "def foo():\n",
    "    l=[]\n",
    "    def bar(i):\n",
    "        l.append(i)\n",
    "        return l\n",
    "    return bar\n",
    "f1=foo()\n",
    "res1=f1(1)\n",
    "print(res1)\n",
    "f1=foo()\n",
    "res2=f1(2)\n",
    "print(res2)"
   ]
  },
  {
   "cell_type": "code",
   "execution_count": 21,
   "metadata": {},
   "outputs": [
    {
     "name": "stdout",
     "output_type": "stream",
     "text": [
      "HELLO\n",
      "hello\n"
     ]
    }
   ],
   "source": [
    "#装饰器\n",
    "def deco(func):\n",
    "#     print(\"HELLO1\")\n",
    "    def warp():\n",
    "        print(\"HELLO\")\n",
    "        return func()\n",
    "    return warp\n",
    "@deco\n",
    "def smy():\n",
    "    print(\"hello\")\n",
    "# @deco\n",
    "# def smy2():\n",
    "#     pass\n",
    "# @deco\n",
    "# def smy3():\n",
    "#     pass\n",
    "smy()"
   ]
  },
  {
   "cell_type": "code",
   "execution_count": 22,
   "metadata": {},
   "outputs": [
    {
     "name": "stdout",
     "output_type": "stream",
     "text": [
      "HELLO\n"
     ]
    },
    {
     "data": {
      "text/plain": [
       "<function __main__.smy()>"
      ]
     },
     "execution_count": 22,
     "metadata": {},
     "output_type": "execute_result"
    }
   ],
   "source": [
    "#装饰器\n",
    "def deco(func):\n",
    "#     print(\"HELLO1\")\n",
    "    def warp():\n",
    "        print(\"HELLO\")\n",
    "        return func\n",
    "    return warp\n",
    "@deco\n",
    "def smy():\n",
    "    print(\"hello\")\n",
    "# @deco\n",
    "# def smy2():\n",
    "#     pass\n",
    "# @deco\n",
    "# def smy3():\n",
    "#     pass\n",
    "smy()"
   ]
  },
  {
   "cell_type": "code",
   "execution_count": 29,
   "metadata": {},
   "outputs": [
    {
     "name": "stdout",
     "output_type": "stream",
     "text": [
      "a1+a2= 300\n",
      "100 200\n",
      "a1+a2= 3\n",
      "1 2\n"
     ]
    }
   ],
   "source": [
    "#创建一个装饰器，3个函数（两个参数），装饰器处理这两个参数的和并打印\n",
    "#每一个函数打印这两个数字\n",
    "#装饰器\n",
    "def deco(func):\n",
    "    def warp(a1,a2):\n",
    "        print(\"a1+a2=\",a1+a2)\n",
    "        return func(a1,a2)\n",
    "    return warp\n",
    "#     def B(func2):\n",
    "#         def b(b1,b2):\n",
    "#             print(b1,b2)\n",
    "#             return func2\n",
    "#         return b\n",
    "#     def C(func3):\n",
    "#         def c(c1,c2):\n",
    "#             print(c1,c2)\n",
    "#             return func3\n",
    "#         return c\n",
    "@deco\n",
    "def sum(a1,a):\n",
    "    print(a1,a2)\n",
    "@deco\n",
    "def sum2(a1,a2):\n",
    "    pass\n",
    "sum(100,200)\n",
    "sum(1,2)\n"
   ]
  },
  {
   "cell_type": "code",
   "execution_count": 40,
   "metadata": {},
   "outputs": [
    {
     "name": "stdout",
     "output_type": "stream",
     "text": [
      "1 2 3\n",
      "6\n"
     ]
    }
   ],
   "source": [
    "def deco(func):\n",
    "    def warp(a1,a2,a3):\n",
    "        a3=a1+a2\n",
    "        return func(a1,a2,a3)\n",
    "    return warp\n",
    "\n",
    "@deco\n",
    "def sum(a1,a2,a3):\n",
    "\n",
    "    print(a1,a2,a3)\n",
    "    print(a2*a3)\n",
    "sum(1,2,3)\n"
   ]
  },
  {
   "cell_type": "code",
   "execution_count": 7,
   "metadata": {
    "scrolled": true
   },
   "outputs": [
    {
     "name": "stderr",
     "output_type": "stream",
     "text": [
      "Getting uuid of QR code.\n",
      "Downloading QR code.\n",
      "Please scan the QR code to log in.\n",
      "Please press confirm on your phone.\n",
      "LOG OUT!\n",
      "Loading the contact, this may take a little while.\n",
      "Login successfully as Fankecy  🍻\n"
     ]
    },
    {
     "name": "stdout",
     "output_type": "stream",
     "text": [
      "[<Friend: Fankecy  🍻>, <Friend: AA麻麻>, <Friend: 世界第一的小公主<span class=\"emoji emoji1f433\"></span>>, <Friend: 育新大宝贝   <span class=\"emoji emoji1f478\"></span>>, <Friend: 王德振>, <Friend: 航宇商厦名创优品>, <Friend: 二姑>, <Friend: 心>, <Friend: 王帅>, <Friend: 王梦时>, <Friend: 王易欣>, <Friend: 苏首华>, <Friend: 张灵>, <Friend: >, <Friend: 赵英杰>, <Friend: 宋旭霞>, <Friend: 吕皓>, <Friend: 徐子博>, <Friend: 焦晨旭>, <Friend: 体育老师>, <Friend: 徐欣蕊>, <Friend: 韩都衣舍淘宝>, <Friend: 石岩>, <Friend: a粑粑>, <Friend: 戴喜丰>, <Friend: 马克思老师>, <Friend: 15统计崔志夫>, <Friend: 电脑刘海彬>, <Friend: 我鸣    <span class=\"emoji emoji1f481\"></span>>, <Friend: 崔桉泽>, <Friend: 杨鑫磊>, <Friend: 张娇娇>, <Friend: 张玲>, <Friend: 米帅>, <Friend: 老师林洪燕>, <Friend: 蓝天>, <Friend: 刘国征>, <Friend: @>, <Friend: 小样贼叼>, <Friend: 王小萌>, <Friend: 小家伙儿<span class=\"emoji emoji1f47d\"></span>>, <Friend: A华冉美容馆>, <Friend: 曹阳>, <Friend: 王昕阳>, <Friend: 荷衣纺18947028344>, <Friend: 娟>, <Friend: 赵蒙>, <Friend: 邢正如>, <Friend: 王师>, <Friend: 杨丽华老师>, <Friend: 十里桃花🌸🌸🌸🌸>, <Friend: 江林老师>, <Friend: 田老师>, <Friend: 杜晓峰>, <Friend: 何静>, <Friend: 石磊>, <Friend: 马宏旭>, <Friend: 陈老师>, <Friend: 韩智慧 18347448843>, <Friend: 铁板饭 >, <Friend: 杨海燕>, <Friend: 周轩扬>, <Friend: 崔振民>, <Friend: 谭西西护肤团@LANXILI>, <Friend: 吧啦啦小魔仙😂>, <Friend: 王影605-15049543867>, <Friend: 从婷婷>, <Friend: 数学系最优秀的<span class=\"emoji emoji1f466\"></span>钱森>, <Friend: 我鑫   <span class=\"emoji emoji1f491\"></span><span class=\"emoji emoji1f491\"></span><span class=\"emoji emoji1f481\"></span>>, <Friend: 代行强>, <Friend: 张芮>, <Friend: 助教张玉杰>, <Friend: 王鸿儒>, <Friend: 小薇>, <Friend: 琦哥>, <Friend: 张龙宇>, <Friend: 郭志颖>, <Friend: 达人（服饰）温州城店>, <Friend: 史娇娇>, <Friend: 可爱到冒痘<span class=\"emoji emoji1f4a7\"></span>的小仙女<span class=\"emoji emoji1f478\"></span>>, <Friend: 任志辉（东方智业经理）>, <Friend: 量云鹏>, <Friend: 崔明如>, <Friend: 田成>, <Friend: 刘旭哲>, <Friend: 刘静>, <Friend: 夏明昊>, <Friend: 冯树鸣>, <Friend: 徐亭亭>, <Friend: 徐亭亭>, <Friend: 创新教育、创新代理记账>, <Friend: 张鑫泽>, <Friend: 刘馨雨>, <Friend: 芳芳   美容院>, <Friend: 奋斗中>, <Friend: 赵亚茹>, <Friend: 白海凤>, <Friend: 邢显钊>, <Friend: 大帅哥。。>, <Friend: 宋姐   卖手机>, <Friend: 宋双双18204979065>, <Friend: 罗广峰>, <Friend: 冯  老黑老黑了<span class=\"emoji emoji1f474\"></span>>, <Friend: 我爱豆宝>, <Friend: 邹存那>, <Friend: 李圆媛>, <Friend: 偶然相遇🌸【招代理，488】>, <Friend: 王佳莹>, <Friend: 袁婷儿   <span class=\"emoji emoji1f478\"></span>>, <Friend: 雪晴书记>, <Friend: 刘思远>, <Friend: 小雪姐>, <Friend: 范安荣企业课老师>, <Friend: 王春宇>, <Friend: 小尹>, <Friend: A淑香医美赵燕~15247638847>, <Friend: 梁寒雪英语老师>, <Friend: 宝丽>, <Friend: 李师>, <Friend: 王新禹>, <Friend: 张诺曦>, <Friend: 周璇🤲🏻>, <Friend: 王涵>, <Friend: 姚琦教官>, <Friend: 肖帅>, <Friend: 赵娇15847735030>, <Friend: 马天琪>, <Friend: 闫玉>, <Friend: 王佳伟>, <Friend: 王琪>, <Friend: 粗粮细做面>, <Friend: 李文慧>, <Friend: 王科然>, <Friend: 淑香设计师肖肖>, <Friend: 蒙蒙>, <Friend: 华冉美容院丽丽姐>, <Friend: 于天奇>, <Friend: 崔泽玲>, <Friend: 刘慧>, <Friend: 呼大信息平台>, <Friend: 李颖超>, <Friend: 李晓磊>, <Friend: 赵昀>, <Friend: 张舒马克思系老师>, <Friend: 李东生>, <Friend: 金新华>, <Friend: 琳姐>, <Friend: 哥>, <Friend: 张丽芳老师>, <Friend: 麻辣拌>, <Friend: 小雪>, <Friend: 王雨淑>, <Friend: 王卫娇>, <Friend: 王华峰>, <Friend: 公主小叮当>, <Friend: 郑云蔚>, <Friend: 梅琳>, <Friend: 屈臣氏姐>, <Friend: 简单>, <Friend: 王小永     矿业>, <Friend: 冀家琪>, <Friend: 首华>, <Friend: 曹路>, <Friend: 姐>, <Friend: 张灵>, <Friend: 杨春泽>, <Friend: WuronG>, <Friend: 曹丽媛>, <Friend: 郑舒予>, <Friend: 董婷>, <Friend: Vanessa>, <Friend: 刘德浩>, <Friend: 王润泽 615  18947583430>, <Friend: 田嘉琦>, <Friend: 可爱到冒痘<span class=\"emoji emoji1f4a7\"></span>的小仙女<span class=\"emoji emoji1f478\"></span>>, <Friend: 朱天宇>, <Friend: 健哥>, <Friend: 张佳宁17547074419>, <Friend: 杨浩>, <Friend: 沈亚旭>, <Friend: 大同桌>, <Friend: 杨超>, <Friend:    <span class=\"emoji emoji270c\"></span> 悠品可丽多乐休闲饮吧>, <Friend: A. 申佳琦  华冉>, <Friend: 邮局的你有包行账单请与我联系>, <Friend: A_🍑>, <Friend: 张颖>, <Friend: 张雅倩>, <Friend:  简影小机灵  <span class=\"emoji emoji1f478\"></span>>, <Friend: a二姨<span class=\"emoji emoji1f471\"></span>>, <Friend: 周杰>, <Friend: 应统2温守杰>, <Friend: 姜维>, <Friend: 王旭>]\n"
     ]
    },
    {
     "data": {
      "text/plain": [
       "↪ 邹存那 : (Picture)"
      ]
     },
     "execution_count": 7,
     "metadata": {},
     "output_type": "execute_result"
    }
   ],
   "source": [
    "#用类封装四个功能\n",
    "# wxpy:用python玩微信\n",
    "# 1、对于特定好友自动回复，文本和图片\n",
    "# 2、封装一个统计微信中性别数量和总人数的比例，男生比例，女生比例\n",
    "# 3、统计你的好友都属于哪个省份并绘制直方图\n",
    "from wxpy import *\n",
    "bot =Bot()\n",
    "my_friend = bot.friends()\n",
    "print(my_friend)\n",
    "my_friend = bot.friends().search('邹存那')[0]\n",
    "my_friend.send('大哥')\n",
    "my_friend.send_image('timg.jpg')"
   ]
  },
  {
   "cell_type": "code",
   "execution_count": 4,
   "metadata": {},
   "outputs": [
    {
     "name": "stdout",
     "output_type": "stream",
     "text": [
      "邹存那 : (Picture)\n",
      "邹存那 : 亲爱的小石头 (Text)\n"
     ]
    }
   ],
   "source": [
    "@bot.register()\n",
    "def print_others(msg):\n",
    "    print(msg)"
   ]
  },
  {
   "cell_type": "code",
   "execution_count": 17,
   "metadata": {},
   "outputs": [],
   "source": [
    "@bot.register(my_friend)\n",
    "def reply_my_friend(msg):\n",
    "    return '有事请稍后'.format(msg.text, msg.type)"
   ]
  },
  {
   "cell_type": "code",
   "execution_count": 16,
   "metadata": {},
   "outputs": [
    {
     "name": "stdout",
     "output_type": "stream",
     "text": [
      "男性好友:40.93%\n",
      "女性好友:52.33%\n",
      "其他:6.74%\n"
     ]
    }
   ],
   "source": [
    "def get_friend_sex(friends):\n",
    "    male=female=other=0\n",
    "    for i in friends[1:]:\n",
    "        sex=i.sex\n",
    "        if sex==1:\n",
    "            male +=1\n",
    "        elif sex==2:\n",
    "            female +=1\n",
    "        else:\n",
    "            other +=1\n",
    "    return male,female,other\n",
    "bot=Bot(cache_path=True)\n",
    "bot.file_helper.send(\"hello world!\")\n",
    "friends=bot.friends()\n",
    "male,female,other=get_friend_sex(friends)\n",
    "total=len(friends[1:])\n",
    "print(\"男性好友:%.2f%%\" % (float(male) / total * 100))\n",
    "print(\"女性好友:%.2f%%\" % (float(female) / total * 100))\n",
    "print(\"其他:%.2f%%\" % (float(other) / total * 100))"
   ]
  },
  {
   "cell_type": "code",
   "execution_count": null,
   "metadata": {},
   "outputs": [],
   "source": []
  }
 ],
 "metadata": {
  "kernelspec": {
   "display_name": "Python 3",
   "language": "python",
   "name": "python3"
  }
 },
 "nbformat": 4,
 "nbformat_minor": 2
}
