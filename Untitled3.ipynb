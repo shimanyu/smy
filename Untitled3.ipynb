{
 "cells": [
  {
   "cell_type": "code",
   "execution_count": 7,
   "metadata": {},
   "outputs": [
    {
     "name": "stdout",
     "output_type": "stream",
     "text": [
      "这个矩形的面积为： 150\n",
      "这个矩形的周长为： 50\n"
     ]
    }
   ],
   "source": [
    "class Rectangle(object):\n",
    "    def __init__(self,width,height):\n",
    "        self.width=width\n",
    "        self.height=height\n",
    "    def getArea(self):\n",
    "        m=self.height*self.width\n",
    "        print(\"这个矩形的面积为：\",m)\n",
    "    def getPerimeter(self):\n",
    "        z=2*self.height+2*self.width\n",
    "        print(\"这个矩形的周长为：\",z)\n",
    "qwe = Rectangle(10,15)\n",
    "qwe.getArea()\n",
    "qwe.getPerimeter()"
   ]
  },
  {
   "cell_type": "code",
   "execution_count": 7,
   "metadata": {
    "scrolled": true
   },
   "outputs": [],
   "source": [
    "class Account(object):\n",
    "    def __init__(self,id,bala,ann):\n",
    "        self.id=id\n",
    "        self.ann=ann\n",
    "        self.bala=bala\n",
    "#     def data(self,id,ann,bala):\n",
    "#         self.id=id\n",
    "#         self.ann=ann\n",
    "#         self.bala=bala\n",
    "#     def getID(self,id):\n",
    "#         self.id=id\n",
    "    def getMonthlyInterestRate(self):\n",
    "        self.f=self.__ann/1200\n",
    "    def getMonthlyInterest(self):\n",
    "        a=self.f*self.__bala\n",
    "#     def get(self):\n",
    "#         print(\"请输入id\")\n",
    "#         res = input(\"输入\")\n",
    "#         print(\"您的ID为：\")\n",
    "\n",
    "    def withdraw(self,qq):\n",
    "        self.qq=qq\n",
    "        a=(self.__bala*self.__ann/1200)-quzou\n",
    "        \n",
    "        print(a)\n",
    "        \n",
    "    def deposit(self,cq):\n",
    "        self.cq=cq\n",
    "        ann=input('请输入存钱金额：')\n",
    "        b=(elf.__bala*self.__ann/1200)-cq\n",
    "        print(b)\n",
    "\n",
    "#         print(\"请输入取钱金额\")\n",
    "#         res = input(\"输入\")\n",
    "#         self.ann = self.ann - int(res)\n",
    "#         print(\"您成功取出\",res,\"元\")\n",
    "#     def deposit(self):\n",
    "#         print(\"请输入存钱金额\")\n",
    "#         res1=input(\"输入\")\n",
    "#         self.ann=self.ann+int(res1)\n",
    "#         print(\"您成功存入\",res1,\"元\")\n",
    "#     def dayin(self):\n",
    "#         print(self.id,\"您账户余额为：\",self.ann,\"利率为：\",self.ll,\"利息为:\",self.lx)\n",
    "        \n",
    "# qwe = Account()\n",
    "# qwe.data(1122,20000,1500)\n",
    "# qwe.getMonthlyInterestRate(0.045)\n",
    "# qwe.getMonthlyInterest()\n",
    "# qwe.withdraw()\n",
    "# qwe.deposit()\n",
    "# qwe.dayin()"
   ]
  },
  {
   "cell_type": "code",
   "execution_count": 28,
   "metadata": {},
   "outputs": [
    {
     "name": "stdout",
     "output_type": "stream",
     "text": [
      "FAST 10 True yellow\n",
      "MEDIUM 5 False blue\n"
     ]
    }
   ],
   "source": [
    "class Fan(object):\n",
    "    def __init__(self):\n",
    "        self.speed=\"SLOW\"\n",
    "        self.radius=5\n",
    "        self.color=\"blue\"\n",
    "        self.on=False\n",
    "    def ventilator(self,speed,on,radius,color):\n",
    "        self.speed=speed\n",
    "        self.color=color\n",
    "        self.radius=radius\n",
    "        self.on=on\n",
    "    def show(self):\n",
    "        if self.speed==1:\n",
    "            speed1=\"SLOW\"\n",
    "        elif self.speed==2:\n",
    "            speed1=\"MEDIUM\"\n",
    "        else:\n",
    "            speed1=\"FAST\"\n",
    "        print(speed1,self.on,self.radius,self.color)\n",
    "qwe = Fan()\n",
    "qwe.ventilator(3,10,True,\"yellow\")\n",
    "qwe.show()\n",
    "qwe.ventilator(2,5,False,\"blue\")\n",
    "qwe.show()"
   ]
  },
  {
   "cell_type": "code",
   "execution_count": 10,
   "metadata": {},
   "outputs": [
    {
     "name": "stdout",
     "output_type": "stream",
     "text": [
      "40\n",
      "30.776835371752536\n"
     ]
    }
   ],
   "source": [
    "import math\n",
    "class RegularPolygon(object):\n",
    "    def __init__(self,n,side,x,y):\n",
    "        self.n=n\n",
    "        self.side=side\n",
    "        self.x=x\n",
    "        self.y=y\n",
    "    def getPerimenter(self):\n",
    "        print(self.n*self.side)\n",
    "    def getArea(self):\n",
    "        Area = self.n*self.side/(4*math.tan(math.pi/self.n))\n",
    "        print(Area)\n",
    "qwe = RegularPolygon(10,4,5.6,7.8)\n",
    "qwe.getPerimenter()\n",
    "qwe.getArea()"
   ]
  },
  {
   "cell_type": "code",
   "execution_count": 24,
   "metadata": {},
   "outputs": [
    {
     "name": "stdout",
     "output_type": "stream",
     "text": [
      "-4.0\n",
      "4.5\n"
     ]
    }
   ],
   "source": [
    "class LinearEquation(object):\n",
    "    def __init__(self,a,b,c,d,e,f):\n",
    "        self.__a=a\n",
    "        self.__b=b\n",
    "        self.__c=c\n",
    "        self.__d=d\n",
    "        self.__e=e\n",
    "        self.__f=f\n",
    "        self.x=0\n",
    "        self.y=0\n",
    "        self.z=0\n",
    "    def isSolvable(self):\n",
    "        z=self.__a*self.__d-self.__b*self.__c\n",
    "        if z !=0:\n",
    "            self.z=True\n",
    "        else:\n",
    "            self.z=False\n",
    "#     def get(self):\n",
    "#         self.x=(self.__e*self.__d-self.__b*self.__f)/(self.__a*self.__d-self.__b*self.__c)\n",
    "#         self.y=(self.__a*self.__f-self.__e*self.__c)/(self.__a*self.__d-self.__b*self.__c)\n",
    "    def getX(self):\n",
    "        self.isSolvable()\n",
    "        self.x=(self.__e*self.__d-self.__b*self.__f)/(self.__a*self.__d-self.__b*self.__c)\n",
    "        if self.z == True:\n",
    "#             self.get()\n",
    "            print(self.x)\n",
    "        else:\n",
    "            pass\n",
    "    def getY(self):\n",
    "        self.isSolvable()\n",
    "        self.y=(self.__a*self.__f-self.__e*self.__c)/(self.__a*self.__d-self.__b*self.__c)\n",
    "        if self.z == True:\n",
    "#             self.get()\n",
    "            print(self.y)\n",
    "        else:\n",
    "            pass\n",
    "        \n",
    "qwe=LinearEquation(1,2,3,4,5,6)\n",
    "qwe.getX()\n",
    "qwe.getY()"
   ]
  },
  {
   "cell_type": "code",
   "execution_count": null,
   "metadata": {},
   "outputs": [],
   "source": [
    "class zuobao:\n",
    "    def A(self):\n",
    "        import math      \n",
    "        x1,y1,x2,y2=map(float,input().split())\n",
    "        x3,y3,x4,y4=map(float,input().split())\n",
    "        u1=(x4-x3)*(y1-y3)-(x1-x3)*(y4-y3)\n",
    "        v1=(x4-x3)*(y2-y3)-(x2-x3)*(y4-y3)\n",
    "        u=math.fabs(u1)\n",
    "        v=math.fabs(v1)\n",
    "\n",
    "        x5=(x1*v+x2*u)/(u+v)\n",
    "        y5=(y1*v+y2*u)/(u+v)\n",
    "        print(x5,y5) \n",
    "re=zuobao()\n",
    "re.A()"
   ]
  },
  {
   "cell_type": "code",
   "execution_count": null,
   "metadata": {},
   "outputs": [],
   "source": [
    "class LinearEquation(object):   \n",
    "    def __init__(self,a,b,c,d,e,f):\n",
    "        self.__a=a\n",
    "        self.__b=b\n",
    "        self.__c=c\n",
    "        self.__d=d\n",
    "        self.__e=e\n",
    "        self.__f=f           \n",
    "    def set_a(self,a):\n",
    "        self.__a=a\n",
    "    def get_a(self):\n",
    "        return self.__a\n",
    "    def set_b(self,b):\n",
    "        self.__b=b\n",
    "    def get_b(self):\n",
    "        return self.___b\n",
    "    def set_c(self,c):\n",
    "        self.__c=c\n",
    "    def get_c(self):\n",
    "        return self.__c\n",
    "    def set_d(self,d):\n",
    "        self.__d=d\n",
    "    def get_d(self):\n",
    "        return self.__d\n",
    "    def set_e(self,e):\n",
    "        self.__e=e\n",
    "    def get_e(self):\n",
    "        return self.__e\n",
    "    def set_f(self,f):\n",
    "        self.__f=f\n",
    "    def get_f(self):\n",
    "        return self.__f\n",
    "    def isSolvable(self):\n",
    "        if (self.__a*self.__d)-(self.__c*self.__b)!=0:\n",
    "            return True\n",
    "        else:\n",
    "            return print('此方程无解')\n",
    "    def getX(self):\n",
    "        s=(self.__a*self.__d)-(self.__b*self.__c)\n",
    "        x=(self.__e*self.__d)-(self.__b*self.__f)/s\n",
    "        print('X的值为：%.2f'% x)\n",
    "    def getY(self):\n",
    "        s=(self.__a*self.__d)-(self.__b*self.__c)\n",
    "        y=(self.__a*self.__f)-(self.__e*self.__c)/s\n",
    "        print('Y的值为：%.2f'% y)\n",
    "if __name__==\"__main__\":\n",
    "    a=int(input('a的值是：'))\n",
    "    b=int(input('b的值是：'))\n",
    "    c=int(input('c的值是：'))\n",
    "    d=int(input('d的值是：'))\n",
    "    e=int(input('e的值是：'))\n",
    "    f=int(input('f的值是：'))\n",
    "    l=LinearEquation(a,b,c,d,e,f)\n",
    "    l.isSolvable()\n",
    "    l.getX()\n",
    "    l.getY()"
   ]
  },
  {
   "cell_type": "code",
   "execution_count": null,
   "metadata": {},
   "outputs": [],
   "source": []
  }
 ],
 "metadata": {
  "kernelspec": {
   "display_name": "Python 3",
   "language": "python",
   "name": "python3"
  },
  "language_info": {
   "codemirror_mode": {
    "name": "ipython",
    "version": 3
   },
   "file_extension": ".py",
   "mimetype": "text/x-python",
   "name": "python",
   "nbconvert_exporter": "python",
   "pygments_lexer": "ipython3",
   "version": "3.7.3"
  }
 },
 "nbformat": 4,
 "nbformat_minor": 2
}
