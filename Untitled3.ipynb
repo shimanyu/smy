{
 "cells": [
  {
   "cell_type": "code",
   "execution_count": 7,
   "metadata": {},
   "outputs": [
    {
     "name": "stdout",
     "output_type": "stream",
     "text": [
      "这个矩形的面积为： 150\n",
      "这个矩形的周长为： 50\n"
     ]
    }
   ],
   "source": [
    "class Rectangle(object):\n",
    "    def __init__(self,width,height):\n",
    "        self.width=width\n",
    "        self.height=height\n",
    "    def getArea(self):\n",
    "        m=self.height*self.width\n",
    "        print(\"这个矩形的面积为：\",m)\n",
    "    def getPerimeter(self):\n",
    "        z=2*self.height+2*self.width\n",
    "        print(\"这个矩形的周长为：\",z)\n",
    "qwe = Rectangle(10,15)\n",
    "qwe.getArea()\n",
    "qwe.getPerimeter()"
   ]
  },
  {
   "cell_type": "code",
   "execution_count": 6,
   "metadata": {},
   "outputs": [
    {
     "name": "stdout",
     "output_type": "stream",
     "text": [
      "FAST 10 True yellow\n",
      "MEDIUM 5 False blue\n"
     ]
    }
   ],
   "source": [
    "class Fan(object):\n",
    "    def __init__(self):\n",
    "        self.speed=\"SLOW\"\n",
    "        self.radius=5\n",
    "        self.color=\"blue\"\n",
    "        self.on=False\n",
    "    def ventilator(self,speed,on,radius,color):\n",
    "        self.speed=speed\n",
    "        self.color=color\n",
    "        self.radius=radius\n",
    "        self.on=on\n",
    "    def show(self):\n",
    "        if self.speed==1:\n",
    "            speed1=\"SLOW\"\n",
    "        elif self.speed==2:\n",
    "            speed1=\"MEDIUM\"\n",
    "        else:\n",
    "            speed1=\"FAST\"\n",
    "        print(speed1,self.on,self.radius,self.color)\n",
    "smy = Fan()\n",
    "smy.ventilator(3,10,True,\"yellow\")\n",
    "smy.show()\n",
    "smy.ventilator(2,5,False,\"blue\")\n",
    "smy.show()"
   ]
  },
  {
   "cell_type": "code",
   "execution_count": 10,
   "metadata": {},
   "outputs": [
    {
     "name": "stdout",
     "output_type": "stream",
     "text": [
      "40\n",
      "30.776835371752536\n"
     ]
    }
   ],
   "source": [
    "import math\n",
    "class RegularPolygon(object):\n",
    "    def __init__(self,n,side,x,y):\n",
    "        self.n=n\n",
    "        self.side=side\n",
    "        self.x=x\n",
    "        self.y=y\n",
    "    def getPerimenter(self):\n",
    "        print(self.n*self.side)\n",
    "    def getArea(self):\n",
    "        Area = self.n*self.side/(4*math.tan(math.pi/self.n))\n",
    "        print(Area)\n",
    "smy = RegularPolygon(10,4,5.6,7.8)\n",
    "smy.getPerimenter()\n",
    "smy.getArea()"
   ]
  },
  {
   "cell_type": "code",
   "execution_count": 5,
   "metadata": {},
   "outputs": [
    {
     "name": "stdout",
     "output_type": "stream",
     "text": [
      "-4.0\n",
      "4.5\n"
     ]
    }
   ],
   "source": [
    "class LinearEquation(object):\n",
    "    def __init__(self,a,b,c,d,e,f):\n",
    "        self.__a=a\n",
    "        self.__b=b\n",
    "        self.__c=c\n",
    "        self.__d=d\n",
    "        self.__e=e\n",
    "        self.__f=f\n",
    "        self.x=0\n",
    "        self.y=0\n",
    "        self.z=0\n",
    "    def isSolvable(self):\n",
    "        z=self.__a*self.__d-self.__b*self.__c\n",
    "        if z !=0:\n",
    "            self.z=True\n",
    "        else:\n",
    "            self.z=False\n",
    "    def get(self):\n",
    "        self.x=(self.__e*self.__d-self.__b*self.__f)/(self.__a*self.__d-self.__b*self.__c)\n",
    "        self.y=(self.__a*self.__f-self.__e*self.__c)/(self.__a*self.__d-self.__b*self.__c)\n",
    "    def getX(self):\n",
    "        self.isSolvable()\n",
    "        if self.z == True:\n",
    "            self.get()\n",
    "            print(self.x)\n",
    "        else:\n",
    "            pass\n",
    "    def getY(self):\n",
    "        self.isSolvable()\n",
    "        if self.z == True:\n",
    "            self.get()\n",
    "            print(self.y)\n",
    "        else:\n",
    "            pass\n",
    "        \n",
    "smy=LinearEquation(1,2,3,4,5,6)\n",
    "smy.getX()\n",
    "smy.getY()"
   ]
  },
  {
   "cell_type": "code",
   "execution_count": null,
   "metadata": {},
   "outputs": [],
   "source": [
    "class LinearEquation(object):\n",
    "    def __init__(self,a,b,c,d,e,f):\n",
    "        self.__a=a\n",
    "        self.__b=b\n",
    "        self.__c=c\n",
    "        self.__d=d\n",
    "        self.__e=e\n",
    "        self.__f=f\n",
    "        self.x=0\n",
    "        self.y=0\n",
    "        self.z=0\n",
    "    def isSolvable(self):\n",
    "        z=self.__a*self.__d-self.__b*self.__c\n",
    "        if z !=0:\n",
    "            self.z=True\n",
    "        else:\n",
    "            self.z=False\n",
    "    def get(self):\n",
    "        self.x=(self.__e*self.__d-self.__b*self.__f)/(self.__a*self.__d-self.__b*self.__c)\n",
    "        self.y=(self.__a*self.__f-self.__e*self.__c)/(self.__a*self.__d-self.__b*self.__c)\n",
    "    def getX(self):\n",
    "        self.isSolvable()\n",
    "        if self.z == True:\n",
    "            self.get()\n",
    "            print(self.x)\n",
    "        else:\n",
    "            pass\n",
    "    def getY(self):\n",
    "        self.isSolvable()\n",
    "        if self.z == True:\n",
    "            self.get()\n",
    "            print(self.y)\n",
    "        else:\n",
    "            pass\n",
    "        \n",
    "smy=LinearEquation(1,2,3,4,5,6)\n",
    "smy.getX()\n",
    "smy.getY()"
   ]
  },
  {
   "cell_type": "code",
   "execution_count": null,
   "metadata": {},
   "outputs": [],
   "source": [
    "class LinearEquation(object):\n",
    "    def A(self):\n",
    "        import math      \n",
    "        x1,y1,x2,y2=map(float,input().split())\n",
    "        x3,y3,x4,y4=map(float,input().split())\n",
    "        u1=(x4-x3)*(y1-y3)-(x1-x3)*(y4-y3)\n",
    "        v1=(x4-x3)*(y2-y3)-(x2-x3)*(y4-y3)\n",
    "        u=math.fabs(u1)\n",
    "        v=math.fabs(v1)\n",
    "\n",
    "        x5=(x1*v+x2*u)/(u+v)\n",
    "        y5=(y1*v+y2*u)/(u+v)\n",
    "        print(x5,y5) \n",
    "smy=zb()\n",
    "smy.A()"
   ]
  }
 ],
 "metadata": {
  "kernelspec": {
   "display_name": "Python 3",
   "language": "python",
   "name": "python3"
  },
  "language_info": {
   "codemirror_mode": {
    "name": "ipython",
    "version": 3
   },
   "file_extension": ".py",
   "mimetype": "text/x-python",
   "name": "python",
   "nbconvert_exporter": "python",
   "pygments_lexer": "ipython3",
   "version": "3.7.3"
  }
 },
 "nbformat": 4,
 "nbformat_minor": 2
}
